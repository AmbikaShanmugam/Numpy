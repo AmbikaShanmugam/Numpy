{
 "cells": [
  {
   "cell_type": "markdown",
   "id": "4f451fa6",
   "metadata": {},
   "source": [
    "#### Creating ndarrays. it involes one dimensional, two dimensional, three diemnsional arrays and so on"
   ]
  },
  {
   "cell_type": "code",
   "execution_count": 89,
   "id": "e621503c",
   "metadata": {},
   "outputs": [],
   "source": [
    "import numpy as np\n",
    "a1=np.array([1,2,3])\n",
    "\n",
    "a11=np.array([1,\n",
    "             2,\n",
    "             3])\n",
    "\n",
    "a2=np.array([[1,2,3],\n",
    "            [4,5,6]])\n",
    "\n",
    "a3=np.array([[[1,2,3],\n",
    "            [4,5,6.3],\n",
    "            [7,8.2,9]],\n",
    "             \n",
    "           [[10,11,12],\n",
    "            [13,14,15],\n",
    "            [16,17,18]]])\n",
    "\n",
    "a4=np.array([[[1,2,3],\n",
    "              [4,5,6]],\n",
    "           \n",
    "             [[7,8,9],\n",
    "              [10,11,12]],\n",
    "             \n",
    "             [[13,14,15],\n",
    "              [16,17,18]]])"
   ]
  },
  {
   "cell_type": "code",
   "execution_count": 90,
   "id": "5892a315",
   "metadata": {},
   "outputs": [
    {
     "data": {
      "text/plain": [
       "(array([1, 2, 3]),\n",
       " array([1, 2, 3]),\n",
       " array([[1, 2, 3],\n",
       "        [4, 5, 6]]),\n",
       " array([[[ 1. ,  2. ,  3. ],\n",
       "         [ 4. ,  5. ,  6.3],\n",
       "         [ 7. ,  8.2,  9. ]],\n",
       " \n",
       "        [[10. , 11. , 12. ],\n",
       "         [13. , 14. , 15. ],\n",
       "         [16. , 17. , 18. ]]]),\n",
       " array([[[ 1,  2,  3],\n",
       "         [ 4,  5,  6]],\n",
       " \n",
       "        [[ 7,  8,  9],\n",
       "         [10, 11, 12]],\n",
       " \n",
       "        [[13, 14, 15],\n",
       "         [16, 17, 18]]]))"
      ]
     },
     "execution_count": 90,
     "metadata": {},
     "output_type": "execute_result"
    }
   ],
   "source": [
    "a1,a11,a2,a3,a4"
   ]
  },
  {
   "cell_type": "markdown",
   "id": "ce4f61ea",
   "metadata": {},
   "source": [
    "#### Numpy array shape, size, type & ndim details"
   ]
  },
  {
   "cell_type": "code",
   "execution_count": 91,
   "id": "c5df4d1f",
   "metadata": {},
   "outputs": [
    {
     "data": {
      "text/plain": [
       "((3,), (3,), (2, 3), (2, 3, 3), (3, 2, 3))"
      ]
     },
     "execution_count": 91,
     "metadata": {},
     "output_type": "execute_result"
    }
   ],
   "source": [
    "a1.shape,a11.shape,a2.shape,a3.shape,a4.shape"
   ]
  },
  {
   "cell_type": "code",
   "execution_count": 76,
   "id": "30d7dc69",
   "metadata": {},
   "outputs": [
    {
     "data": {
      "text/plain": [
       "(3, 6, 18, 18)"
      ]
     },
     "execution_count": 76,
     "metadata": {},
     "output_type": "execute_result"
    }
   ],
   "source": [
    "a1.size,a2.size,a3.size,a4.size"
   ]
  },
  {
   "cell_type": "code",
   "execution_count": 92,
   "id": "38b5135a",
   "metadata": {},
   "outputs": [
    {
     "data": {
      "text/plain": [
       "(1, 1, 2, 3, 3)"
      ]
     },
     "execution_count": 92,
     "metadata": {},
     "output_type": "execute_result"
    }
   ],
   "source": [
    "a1.ndim,a11.ndim ,a2.ndim,a3.ndim,a4.ndim"
   ]
  },
  {
   "cell_type": "code",
   "execution_count": 75,
   "id": "22a537bc",
   "metadata": {},
   "outputs": [
    {
     "data": {
      "text/plain": [
       "(dtype('int32'), dtype('int32'), dtype('float64'))"
      ]
     },
     "execution_count": 75,
     "metadata": {},
     "output_type": "execute_result"
    }
   ],
   "source": [
    "a1.dtype,a2.dtype,a3.dtype"
   ]
  },
  {
   "cell_type": "code",
   "execution_count": 78,
   "id": "64c129e9",
   "metadata": {},
   "outputs": [
    {
     "data": {
      "text/plain": [
       "(numpy.ndarray, numpy.ndarray)"
      ]
     },
     "execution_count": 78,
     "metadata": {},
     "output_type": "execute_result"
    }
   ],
   "source": [
    "type(a1),type(a4)"
   ]
  },
  {
   "cell_type": "markdown",
   "id": "fcbcb209",
   "metadata": {},
   "source": [
    "#### numpy zeros,ones & empty arrays"
   ]
  },
  {
   "cell_type": "code",
   "execution_count": 54,
   "id": "4ee996cd",
   "metadata": {},
   "outputs": [
    {
     "data": {
      "text/plain": [
       "(array([[[0., 0.],\n",
       "         [0., 0.]],\n",
       " \n",
       "        [[0., 0.],\n",
       "         [0., 0.]],\n",
       " \n",
       "        [[0., 0.],\n",
       "         [0., 0.]]]),\n",
       " array([[[0., 0.],\n",
       "         [0., 0.]],\n",
       " \n",
       "        [[0., 0.],\n",
       "         [0., 0.]],\n",
       " \n",
       "        [[0., 0.],\n",
       "         [0., 0.]]]),\n",
       " array([[0., 0.],\n",
       "        [0., 0.]]))"
      ]
     },
     "execution_count": 54,
     "metadata": {},
     "output_type": "execute_result"
    }
   ],
   "source": [
    "a4=np.zeros([3,2,2])\n",
    "a5=np.zeros((3,2,2))\n",
    "a6=np.zeros((2,2))\n",
    "a4,a5,a6"
   ]
  },
  {
   "cell_type": "code",
   "execution_count": 55,
   "id": "cb151b00",
   "metadata": {},
   "outputs": [
    {
     "data": {
      "text/plain": [
       "(3, 3, 2)"
      ]
     },
     "execution_count": 55,
     "metadata": {},
     "output_type": "execute_result"
    }
   ],
   "source": [
    "a4.ndim,a5.ndim,a6.ndim"
   ]
  },
  {
   "cell_type": "code",
   "execution_count": 56,
   "id": "b30c7e8a",
   "metadata": {},
   "outputs": [
    {
     "data": {
      "text/plain": [
       "((3, 2, 2), (3, 2, 2), (2, 2))"
      ]
     },
     "execution_count": 56,
     "metadata": {},
     "output_type": "execute_result"
    }
   ],
   "source": [
    "a4.shape,a5.shape,a6.shape"
   ]
  },
  {
   "cell_type": "code",
   "execution_count": 97,
   "id": "2572e280",
   "metadata": {},
   "outputs": [
    {
     "data": {
      "text/plain": [
       "array([[[1., 1., 1.],\n",
       "        [1., 1., 1.]],\n",
       "\n",
       "       [[1., 1., 1.],\n",
       "        [1., 1., 1.]]])"
      ]
     },
     "execution_count": 97,
     "metadata": {},
     "output_type": "execute_result"
    }
   ],
   "source": [
    "a11=np.ones([2,2,3])\n",
    "a11"
   ]
  },
  {
   "cell_type": "code",
   "execution_count": 59,
   "id": "c11287a2",
   "metadata": {},
   "outputs": [
    {
     "data": {
      "text/plain": [
       "array([[2.12199579e-314, 2.14321575e-312],\n",
       "       [4.42682819e-321, 6.95271921e-310]])"
      ]
     },
     "execution_count": 59,
     "metadata": {},
     "output_type": "execute_result"
    }
   ],
   "source": [
    "#array.empty requires users to fill the values.Uninitialized\n",
    "# use np.empty(press shift tab to get docstring of this function)\n",
    "np.empty()\n",
    "a7=np.empty([2,2])\n",
    "a7"
   ]
  },
  {
   "cell_type": "code",
   "execution_count": 47,
   "id": "18eeeab6",
   "metadata": {},
   "outputs": [
    {
     "name": "stderr",
     "output_type": "stream",
     "text": [
      "<ipython-input-47-974fba413824>:1: VisibleDeprecationWarning: Creating an ndarray from ragged nested sequences (which is a list-or-tuple of lists-or-tuples-or ndarrays with different lengths or shapes) is deprecated. If you meant to do this, you must specify 'dtype=object' when creating the ndarray.\n",
      "  a7=np.array([[[1,2,3],\n"
     ]
    }
   ],
   "source": [
    "# ndarray must be multidimensional, homogeneous array of fixed-size items\n",
    "a8=np.array([[[1,2,3],\n",
    "              [4,5,6]],\n",
    "           \n",
    "             [[7,8,9],\n",
    "              [10,11,12]],\n",
    "             \n",
    "             [[13,14],\n",
    "              [16,17]]])"
   ]
  },
  {
   "cell_type": "markdown",
   "id": "acad486d",
   "metadata": {},
   "source": [
    "#### numpy dot method"
   ]
  },
  {
   "cell_type": "code",
   "execution_count": 61,
   "id": "68bcb11c",
   "metadata": {},
   "outputs": [
    {
     "data": {
      "text/plain": [
       "10"
      ]
     },
     "execution_count": 61,
     "metadata": {},
     "output_type": "execute_result"
    }
   ],
   "source": [
    "a=([1,2,3])\n",
    "b=([3,2,1])\n",
    "c=np.dot(a,b)\n",
    "c\n",
    "#it works as below\n",
    "c=(1*3+2*2+3*1)"
   ]
  },
  {
   "cell_type": "code",
   "execution_count": 62,
   "id": "10d0ba8c",
   "metadata": {},
   "outputs": [
    {
     "data": {
      "text/plain": [
       "array([[11, 10],\n",
       "       [10, 11]])"
      ]
     },
     "execution_count": 62,
     "metadata": {},
     "output_type": "execute_result"
    }
   ],
   "source": [
    "a=([[1,2],\n",
    "   [2,1]])\n",
    "b=([[3,4],\n",
    "    [4,3]])\n",
    "c=np.dot(a,b)\n",
    "c\n",
    "# it works like below\n",
    "c=([[1*3+2*4 ,1*4+2*3],[2*3+1*4 ,2*4+1*3)"
   ]
  },
  {
   "cell_type": "markdown",
   "id": "e14f8199",
   "metadata": {},
   "source": [
    "#### create dataframes using numpy.array"
   ]
  },
  {
   "cell_type": "code",
   "execution_count": 88,
   "id": "313b0872",
   "metadata": {},
   "outputs": [
    {
     "data": {
      "text/plain": [
       "(   a\n",
       " 0  1\n",
       " 1  2\n",
       " 2  3,\n",
       "    a  b  c\n",
       " 0  1  2  3\n",
       " 1  4  5  6)"
      ]
     },
     "execution_count": 88,
     "metadata": {},
     "output_type": "execute_result"
    }
   ],
   "source": [
    "import pandas as pd\n",
    "a1=np.array([1,2,3])\n",
    "\n",
    "a2=np.array([[1,2,3],[4,5,6]])\n",
    "\n",
    "df1=pd.DataFrame(a1,columns=(['a']))\n",
    "\n",
    "df2=pd.DataFrame(a2,columns=(['a','b','c']))\n",
    "\n",
    "df1,df2"
   ]
  },
  {
   "cell_type": "markdown",
   "id": "71e27fee",
   "metadata": {},
   "source": [
    "#### Range Arrays"
   ]
  },
  {
   "cell_type": "code",
   "execution_count": 101,
   "id": "09d017b3",
   "metadata": {},
   "outputs": [
    {
     "data": {
      "text/plain": [
       "(array([1, 2, 3, 4, 5, 6, 7, 8, 9]),\n",
       " array([1, 3, 5, 7, 9]),\n",
       " array([ 1,  5,  9, 13, 17, 21, 25, 29, 33, 37, 41, 45, 49, 53, 57, 61, 65,\n",
       "        69, 73, 77, 81, 85, 89, 93, 97]))"
      ]
     },
     "execution_count": 101,
     "metadata": {},
     "output_type": "execute_result"
    }
   ],
   "source": [
    "range_array=np.arange(start=1,stop=10)\n",
    "\n",
    "range_array_2=np.arange(start=1,stop=10,step=2)\n",
    "\n",
    "range_array_3=np.arange(start=1,stop=100,step=2**2)\n",
    "range_array,range_array_2,range_array_3"
   ]
  },
  {
   "cell_type": "markdown",
   "id": "558160a2",
   "metadata": {},
   "source": [
    "#### Random Arrays"
   ]
  },
  {
   "cell_type": "code",
   "execution_count": 162,
   "id": "0b46b9c6",
   "metadata": {},
   "outputs": [
    {
     "data": {
      "text/plain": [
       "(7,\n",
       " array([[9, 6],\n",
       "        [6, 5]]))"
      ]
     },
     "execution_count": 162,
     "metadata": {},
     "output_type": "execute_result"
    }
   ],
   "source": [
    "#random.randint\n",
    "random_array1=np.random.randint(1,10)\n",
    "\n",
    "random_array2=np.random.randint(1,10,size=(2,2))\n",
    "\n",
    "random_array1,random_array2"
   ]
  },
  {
   "cell_type": "markdown",
   "id": "7bf11bd5",
   "metadata": {},
   "source": [
    "#### random using random_seed"
   ]
  },
  {
   "cell_type": "code",
   "execution_count": 175,
   "id": "f685606f",
   "metadata": {},
   "outputs": [
    {
     "data": {
      "text/plain": [
       "array([[6, 9],\n",
       "       [6, 1]])"
      ]
     },
     "execution_count": 175,
     "metadata": {},
     "output_type": "execute_result"
    }
   ],
   "source": [
    "#random seed gives single consistent ndarray values for each seed value. \n",
    "#This helps to validate and compare the output across multiple users or environments.\n",
    "# Random.seed applies for all numpy random functions\n",
    "np.random.seed(1)\n",
    "random_array21=np.random.randint(1,10,size=(2,2))\n",
    "random_array21"
   ]
  },
  {
   "cell_type": "code",
   "execution_count": 126,
   "id": "94513c13",
   "metadata": {},
   "outputs": [
    {
     "data": {
      "text/plain": [
       "(int, numpy.ndarray)"
      ]
     },
     "execution_count": 126,
     "metadata": {},
     "output_type": "execute_result"
    }
   ],
   "source": [
    "type(random_array1),type(random_array2)"
   ]
  },
  {
   "cell_type": "code",
   "execution_count": 142,
   "id": "a3e8734e",
   "metadata": {},
   "outputs": [
    {
     "data": {
      "text/plain": [
       "(<function RandomState.random>,\n",
       " array([0.48013642, 0.12276416, 0.33847232]),\n",
       " array([[0.71827649, 0.01166456, 0.33367748],\n",
       "        [0.0529965 , 0.49947937, 0.95047422],\n",
       "        [0.30454076, 0.00585046, 0.78555391]]))"
      ]
     },
     "execution_count": 142,
     "metadata": {},
     "output_type": "execute_result"
    }
   ],
   "source": [
    "#random.random\n",
    "random_array3=np.random.random\n",
    "\n",
    "random_array4=np.random.random(3)\n",
    "\n",
    "random_array5=np.random.random((3,3))\n",
    "\n",
    "random_array3,random_array4,random_array5"
   ]
  },
  {
   "cell_type": "code",
   "execution_count": 143,
   "id": "24c6e877",
   "metadata": {},
   "outputs": [
    {
     "data": {
      "text/plain": [
       "(numpy.ndarray, numpy.ndarray)"
      ]
     },
     "execution_count": 143,
     "metadata": {},
     "output_type": "execute_result"
    }
   ],
   "source": [
    "type(random_array4),type(random_array5)"
   ]
  },
  {
   "cell_type": "code",
   "execution_count": 155,
   "id": "7d68786a",
   "metadata": {},
   "outputs": [
    {
     "data": {
      "text/plain": [
       "(array([0.27663943, 0.62590611, 0.96762006]),\n",
       " array([[0.55872328, 0.47277067, 0.10630768],\n",
       "        [0.62340266, 0.47655386, 0.53316989],\n",
       "        [0.95829089, 0.16431599, 0.14570431]]))"
      ]
     },
     "execution_count": 155,
     "metadata": {},
     "output_type": "execute_result"
    }
   ],
   "source": [
    "#random.rand\n",
    "random_array6=np.random.rand(3)\n",
    "\n",
    "random_array7=np.random.rand(3,3)\n",
    "\n",
    "random_array6,random_array7"
   ]
  },
  {
   "cell_type": "code",
   "execution_count": 177,
   "id": "c06a5b84",
   "metadata": {},
   "outputs": [
    {
     "data": {
      "text/plain": [
       "array([1, 2, 3, 4])"
      ]
     },
     "execution_count": 177,
     "metadata": {},
     "output_type": "execute_result"
    }
   ],
   "source": [
    "#unique array \n",
    "a9=np.array([[1,2,2],\n",
    "            [3,4,2]])\n",
    "np.unique(a9)"
   ]
  }
 ],
 "metadata": {
  "kernelspec": {
   "display_name": "Python 3",
   "language": "python",
   "name": "python3"
  },
  "language_info": {
   "codemirror_mode": {
    "name": "ipython",
    "version": 3
   },
   "file_extension": ".py",
   "mimetype": "text/x-python",
   "name": "python",
   "nbconvert_exporter": "python",
   "pygments_lexer": "ipython3",
   "version": "3.8.8"
  }
 },
 "nbformat": 4,
 "nbformat_minor": 5
}
